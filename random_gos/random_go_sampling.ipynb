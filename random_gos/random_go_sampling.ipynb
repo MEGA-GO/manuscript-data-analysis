{
 "cells": [
  {
   "cell_type": "code",
   "execution_count": 39,
   "metadata": {},
   "outputs": [],
   "source": [
    "import pandas as pd\n",
    "import random\n",
    "\n",
    "from megago.constants import UNIPROT_ASSOCIATIONS_FILE_PATH"
   ]
  },
  {
   "cell_type": "code",
   "execution_count": 48,
   "metadata": {},
   "outputs": [],
   "source": [
    "N_SAMPLES = 5\n",
    "SAMPLESIZE = 1000"
   ]
  },
  {
   "cell_type": "code",
   "execution_count": 21,
   "metadata": {},
   "outputs": [],
   "source": [
    "s = pd.read_csv(UNIPROT_ASSOCIATIONS_FILE_PATH, sep=\"\\t\", usecols=[1], squeeze=True, dtype=str)"
   ]
  },
  {
   "cell_type": "code",
   "execution_count": 22,
   "metadata": {},
   "outputs": [
    {
     "data": {
      "text/plain": [
       "0    GO:0005774;GO:0006914;GO:0010008;GO:0016020;GO...\n",
       "1    GO:0000278;GO:0000776;GO:0004721;GO:0004857;GO...\n",
       "2    GO:0003774;GO:0005886;GO:0005923;GO:0006914;GO...\n",
       "3    GO:0001771;GO:0001931;GO:0003725;GO:0003779;GO...\n",
       "4    GO:0005623;GO:0005634;GO:0005737;GO:0006644;GO...\n",
       "Name: Gene ontology IDs, dtype: object"
      ]
     },
     "execution_count": 22,
     "metadata": {},
     "output_type": "execute_result"
    }
   ],
   "source": [
    "s.head()"
   ]
  },
  {
   "cell_type": "code",
   "execution_count": 24,
   "metadata": {},
   "outputs": [
    {
     "data": {
      "text/plain": [
       "536441"
      ]
     },
     "execution_count": 24,
     "metadata": {},
     "output_type": "execute_result"
    }
   ],
   "source": [
    "s.dropna(inplace=True)"
   ]
  },
  {
   "cell_type": "code",
   "execution_count": 34,
   "metadata": {},
   "outputs": [],
   "source": [
    "s_l = s.apply(lambda x: x.split(\";\")[:-1])\n"
   ]
  },
  {
   "cell_type": "code",
   "execution_count": 37,
   "metadata": {},
   "outputs": [],
   "source": [
    "l_gos = [e for l in s_l.to_list() for e in l]"
   ]
  },
  {
   "cell_type": "code",
   "execution_count": 40,
   "metadata": {},
   "outputs": [
    {
     "data": {
      "text/plain": [
       "['GO:0005774', 'GO:0006914', 'GO:0010008', 'GO:0016020', 'GO:0017112']"
      ]
     },
     "execution_count": 40,
     "metadata": {},
     "output_type": "execute_result"
    }
   ],
   "source": [
    "l_gos[:5]"
   ]
  },
  {
   "cell_type": "code",
   "execution_count": 43,
   "metadata": {},
   "outputs": [
    {
     "data": {
      "text/plain": [
       "3035358"
      ]
     },
     "execution_count": 43,
     "metadata": {},
     "output_type": "execute_result"
    }
   ],
   "source": [
    "len(l_gos)"
   ]
  },
  {
   "cell_type": "code",
   "execution_count": 49,
   "metadata": {},
   "outputs": [],
   "source": [
    "random.seed(123)\n",
    "for i in range(N_SAMPLES):\n",
    "    outfile = f\"go_rand_{SAMPLESIZE}-{i}.csv\"\n",
    "    with open(outfile, \"w\") as f:\n",
    "        f.write(\"random gos are awesome!\")\n",
    "        go_rand = random.choices(l_gos, k=SAMPLESIZE)\n",
    "        f.write(\"\\n\".join(go_rand))\n"
   ]
  }
 ],
 "metadata": {
  "kernelspec": {
   "display_name": "Python 3",
   "language": "python",
   "name": "python3"
  },
  "language_info": {
   "codemirror_mode": {
    "name": "ipython",
    "version": 3
   },
   "file_extension": ".py",
   "mimetype": "text/x-python",
   "name": "python",
   "nbconvert_exporter": "python",
   "pygments_lexer": "ipython3",
   "version": "3.8.2"
  }
 },
 "nbformat": 4,
 "nbformat_minor": 4
}
